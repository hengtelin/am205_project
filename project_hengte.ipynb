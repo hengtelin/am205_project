{
 "cells": [
  {
   "cell_type": "code",
   "execution_count": 14,
   "metadata": {
    "collapsed": false
   },
   "outputs": [],
   "source": [
    "import numpy as np\n",
    "from numpy import array, sin, cos, dot, random, zeros, ones, exp\n",
    "from scipy.optimize import minimize, root\n",
    "from scipy.linalg import solve, norm\n",
    "from scipy.integrate import simps\n",
    "from scipy.interpolate import lagrange\n",
    "from math import pi\n",
    "import sys\n",
    "import matplotlib.pyplot as plt\n",
    "from matplotlib import animation,rc\n",
    "%matplotlib inline\n",
    "from IPython.display import HTML\n",
    "import matplotlib.pyplot as plt"
   ]
  },
  {
   "cell_type": "markdown",
   "metadata": {},
   "source": [
    "## Mechanical System"
   ]
  },
  {
   "cell_type": "code",
   "execution_count": 56,
   "metadata": {
    "collapsed": false
   },
   "outputs": [],
   "source": [
    "#change here\n",
    "#------------\n",
    "Duration = 1;\n",
    "FPS = 100;\n",
    "starting_point = array([0.001,0,0,0])\n",
    "#-----------\n",
    "dt = 1./FPS\n",
    "N = int(Duration*FPS);\n",
    "\n",
    "def acrobot_gradient(x, u):\n",
    "    friction = 2\n",
    "    g = 9.8\n",
    "    M = array([[3 + 2*cos(x[1]), 1+cos(x[1])],[1+cos(x[1]), 1]])\n",
    "    c1 = x[3]*(2*x[2]+x[3])*sin(x[1]) + 2*g*sin(x[0]) + g*sin(x[0]+x[1])\n",
    "    c2 = -x[2]**2*sin(x[1]) + g*sin(x[0]+x[1])\n",
    "    a = np.concatenate([x[2:4], solve(M,array([c1-friction*x[2], c2-friction*x[3]]))])\n",
    "    B = np.concatenate([[0,0],solve(M,array([0,1]))])\n",
    "    xd = a + B*u\n",
    "    return xd\n",
    "    \n",
    "def acrobot_next_step(x,u):\n",
    "    \n",
    "    xd = acrobot_gradient(x,u)\n",
    "    new_x = x + xd*dt\n",
    "    #limit angle range to [0, 2pi]\n",
    "    new_x[0]=new_x[0]%(2*pi)\n",
    "    new_x[1]=new_x[1]%(2*pi)\n",
    "    #avoid acceleration overflow\n",
    "    return np.clip(new_x,-100,100)\n",
    "#r=k=1\n",
    "#cost_function = lambda x,u,r,k : r/2*u**2 + 1 - exp(k*cos(x[0]) + k*cos(x[1])-2*k)\n",
    "#cost_function = lambda x,u : u**2 + dot(x,x)"
   ]
  },
  {
   "cell_type": "markdown",
   "metadata": {},
   "source": [
    "## Lagrangian Bruteforce"
   ]
  },
  {
   "cell_type": "code",
   "execution_count": 16,
   "metadata": {
    "collapsed": true
   },
   "outputs": [],
   "source": [
    "#brute force method, not converging\n",
    "\n",
    "def lagrangian(input_array):\n",
    "    #x is x1 to xN,followed by U0 to UN-1, followed by lambda0 to lambdaN-1\n",
    "    x = np.concatenate([[pi,0,0,0],input_array[:(N-1)*4]])\n",
    "    u = input_array[(N-1)*4:(N-1)*4+N]\n",
    "    lam = input_array[(N-1)*4+N:-1]\n",
    "\n",
    "    L=0\n",
    "    for i in range(N-1):\n",
    "        #current x\n",
    "        xx = x[i*4:(i+1)*4]\n",
    "        #next x\n",
    "        xx_p1 = x[(i+1)*4:(i+2)*4]\n",
    "        #difference between x+dt*dx and x_next\n",
    "        delta = xx+dt*acrobot_motion(xx,u[i])-xx_p1\n",
    "        #minimize energy\n",
    "        cost = cost_function(xx,u[i])\n",
    "        lagragian_term = lam[i]*(delta[0:1]%(2*pi))\n",
    "        L+=cost+lagragian_term\n",
    "    return L\n",
    "def lagrangian_train():\n",
    "    init = np.ones(N*4+N+N)\n",
    "    out = minimize(lagrangian,init)"
   ]
  },
  {
   "cell_type": "markdown",
   "metadata": {},
   "source": [
    "## Lagrangian multiplier derivation"
   ]
  },
  {
   "cell_type": "code",
   "execution_count": 52,
   "metadata": {
    "collapsed": true
   },
   "outputs": [],
   "source": [
    "def grad_lagrangian_trick(u):\n",
    "    # u is a vector of u0 to uN-1\n",
    "    n=len(u)\n",
    "    x = zeros([n+1,4])\n",
    "    x[0]=starting_point\n",
    "    lam = zeros([n,4])\n",
    "    lam[n-1] = zeros(4)\n",
    "    dldu = zeros(n)\n",
    "    \n",
    "    #define partial derivation functions\n",
    "    def dgdx(x,u):\n",
    "        k=1\n",
    "        out = zeros(4)\n",
    "        x1= x[0]\n",
    "        x2= x[1]\n",
    "        out[0] = exp(k*cos(x1)+k*cos(x1)-2*k)*k*sin(x1)\n",
    "        out[1] = exp(k*cos(x2)+k*cos(x2)-2*k)*k*sin(x2)\n",
    "        return out\n",
    "    dgdu = lambda x,u : 0.1*u\n",
    "    \n",
    "    delta = 0.0001\n",
    "    def dfdxT(x,u):\n",
    "        out = zeros([4,4])\n",
    "        for i in range(4):\n",
    "            delta_v = zeros(4)\n",
    "            delta_v[i] = delta\n",
    "            #print(x+delta_v)\n",
    "            out[i] = ((acrobot_gradient(x+delta_v,u)-acrobot_gradient(x-delta_v,u))*dt+2*delta_v)/2/delta\n",
    "        return out\n",
    "    dfdu = lambda x,u : ((acrobot_gradient(x,u+delta)-acrobot_gradient(x,u-delta))*dt+2*delta)/2/delta\n",
    "    \n",
    "    #calculate gradient through back propagation\n",
    "    for i in range(n):\n",
    "        x[i+1]=acrobot_next_step(x[i],u[i])\n",
    "        \n",
    "    for i in reversed(range(1,n)):\n",
    "        lam[i-1]=dgdx(x[i],u[i])+dot(dfdxT(x[i],u[i]),lam[i])\n",
    "    \n",
    "    for i in range(n):\n",
    "        dldu[i]=dgdu(x[i],u[i])+dot(lam[i],dfdu(x[i],u[i]))\n",
    "    \n",
    "    return dldu\n",
    "\n",
    "def lagrangian_train(dt,N):\n",
    "    u = zeros(N)#random.normal(0,size=N)\n",
    "    out = root(grad_lagrangian_trick,u) \n",
    "    return (out,out.x)"
   ]
  },
  {
   "cell_type": "markdown",
   "metadata": {},
   "source": [
    "## Chebyshev"
   ]
  },
  {
   "cell_type": "code",
   "execution_count": 40,
   "metadata": {
    "collapsed": false
   },
   "outputs": [],
   "source": [
    "def interpolate_fit(x, coef):\n",
    "    f = lambda x : sum([pow(x, y)*coef[y] for y in range(len(coef))])\n",
    "    vfunc = np.vectorize(f)\n",
    "    return vfunc(x)\n",
    "\n",
    "def chebyshev_gradient(ts,order,cheby_t,cheby_u):\n",
    "    def interpolate_grad_fit(x, cheby_t, cheby_u):\n",
    "        # fit gradient of model relate to cheby u\n",
    "        # dL(t)dwj = lj(t) = (x-x0)/(xj-x0)....x-xk)/(xj-xk)\n",
    "        f = lambda x : array(\n",
    "            [\n",
    "                np.prod([\n",
    "                    (x-xi)/(xj-xi) \n",
    "                    for xi in cheby_t if xi!=xj\n",
    "                ]) \n",
    "                for xj in cheby_t\n",
    "            ]\n",
    "        )\n",
    "        return array([f(xx) for xx in x])\n",
    "    #calculate u according to current chebyshev\n",
    "    poly = np.flipud(lagrange(cheby_t,cheby_u))\n",
    "    u = interpolate_fit(ts, poly)\n",
    "    # calculate dLdw\n",
    "    dldu = grad_lagrangian_trick(u)\n",
    "    dudw = interpolate_grad_fit(ts, cheby_t, cheby_u)\n",
    "    return array([simps(dudw[:,i]*dldu,ts) for i in range(order)])\n",
    "\n",
    "def chebyshev_train(dt,N,order):\n",
    "    chebyshev = lambda n: array([cos((2*j-1)*pi/(2*n)) for j in range(1,n+1)])\n",
    "    Duration = N*dt\n",
    "    ts = np.arange(N)*dt\n",
    "    cheby_t = (chebyshev(order)+1)*Duration/2\n",
    "    cheby_u = random.normal(0,size=order)\n",
    "    \n",
    "    local_chebyshev_gradient = lambda cheby_u: chebyshev_gradient(ts,order,cheby_t,cheby_u)\n",
    "    out = root(local_chebyshev_gradient,cheby_u)\n",
    "    \n",
    "    #get final u array\n",
    "    poly = np.flipud(lagrange(cheby_t,out.x))\n",
    "    u = interpolate_fit(ts, poly)\n",
    "    return (out,u)"
   ]
  },
  {
   "cell_type": "markdown",
   "metadata": {},
   "source": [
    "## Fit"
   ]
  },
  {
   "cell_type": "code",
   "execution_count": 57,
   "metadata": {
    "collapsed": false
   },
   "outputs": [],
   "source": [
    "out = chebyshev_train(dt,N,15) \n",
    "#out = lagrangian_train(dt,N)\n",
    "u = out[1]"
   ]
  },
  {
   "cell_type": "markdown",
   "metadata": {},
   "source": [
    "## Simulation"
   ]
  },
  {
   "cell_type": "code",
   "execution_count": 63,
   "metadata": {
    "collapsed": false
   },
   "outputs": [
    {
     "data": {
      "image/png": "[encoded data removed]",
      "text/plain": [
       "<matplotlib.figure.Figure at 0x22e208ffd68>"
      ]
     },
     "metadata": {},
     "output_type": "display_data"
    }
   ],
   "source": [
    "\n",
    "x = np.zeros((N, 4))\n",
    "x[0] = starting_point\n",
    "for i in range(N-1):\n",
    "    x[i+1] = acrobot_next_step(x[i], u[i])\n",
    "    #change to [-pi,pi] range for easier reading\n",
    "    if (x[i+1][0]> pi):\n",
    "        x[i+1][0] = x[i+1][0]%pi-pi \n",
    "    if (x[i+1][1]> pi):\n",
    "        x[i+1][1] = x[i+1][1]%pi-pi \n",
    "# First set up the figure, the axis, and the plot element we want to animate\n",
    "fig, ax = plt.subplots()\n",
    "\n",
    "ax.set_xlim(( -2.2, 2.2))\n",
    "ax.set_ylim((-2.2, 2.2))\n",
    "\n",
    "line, = ax.plot([], [], lw=2)\n",
    "\n",
    "# initialization function: plot the background of each frame\n",
    "def init():\n",
    "    line.set_data([], [])\n",
    "    return (line,)\n",
    "\n",
    "# animation function. This is called sequentially\n",
    "def animate(k):\n",
    "    x1 = cos(x[k,0]+pi/2);\n",
    "    y1 = sin(x[k,0]+pi/2);\n",
    "    x2 = x1 + cos(x[k,0]+x[k,1]+pi/2);\n",
    "    y2 = y1 + sin(x[k,0]+x[k,1]+pi/2);\n",
    "    \n",
    "    xs = [0, x1, x2]\n",
    "    ys = [0, y1, y2]\n",
    "    line.set_data(xs, ys)\n",
    "    return (line,)\n",
    "\n",
    "# call the animator. blit=True means only re-draw the parts that have changed.\n",
    "anim = animation.FuncAnimation(fig, animate, init_func=init,\n",
    "                               frames=N, interval=20, blit=True)\n"
   ]
  },
  {
   "cell_type": "code",
   "execution_count": 61,
   "metadata": {
    "collapsed": false
   },
   "outputs": [
    {
     "ename": "RuntimeError",
     "evalue": "No MovieWriters available!",
     "output_type": "error",
     "traceback": [
      "\u001b[0;31m---------------------------------------------------------------------------\u001b[0m",
      "\u001b[0;31mRuntimeError\u001b[0m                              Traceback (most recent call last)",
      "\u001b[0;32m<ipython-input-61-5114ccf53b4c>\u001b[0m in \u001b[0;36m<module>\u001b[0;34m()\u001b[0m\n\u001b[0;32m----> 1\u001b[0;31m \u001b[0mHTML\u001b[0m\u001b[1;33m(\u001b[0m\u001b[0manim\u001b[0m\u001b[1;33m.\u001b[0m\u001b[0mto_html5_video\u001b[0m\u001b[1;33m(\u001b[0m\u001b[1;33m)\u001b[0m\u001b[1;33m)\u001b[0m\u001b[1;33m\u001b[0m\u001b[0m\n\u001b[0m",
      "\u001b[0;32mE:\\Anaconda3\\lib\\site-packages\\matplotlib\\animation.py\u001b[0m in \u001b[0;36mto_html5_video\u001b[0;34m(self)\u001b[0m\n\u001b[1;32m   1153\u001b[0m                 \u001b[1;31m# We create a writer manually so that we can get the\u001b[0m\u001b[1;33m\u001b[0m\u001b[1;33m\u001b[0m\u001b[0m\n\u001b[1;32m   1154\u001b[0m                 \u001b[1;31m# appropriate size for the tag\u001b[0m\u001b[1;33m\u001b[0m\u001b[1;33m\u001b[0m\u001b[0m\n\u001b[0;32m-> 1155\u001b[0;31m                 \u001b[0mWriter\u001b[0m \u001b[1;33m=\u001b[0m \u001b[0mwriters\u001b[0m\u001b[1;33m[\u001b[0m\u001b[0mrcParams\u001b[0m\u001b[1;33m[\u001b[0m\u001b[1;34m'animation.writer'\u001b[0m\u001b[1;33m]\u001b[0m\u001b[1;33m]\u001b[0m\u001b[1;33m\u001b[0m\u001b[0m\n\u001b[0m\u001b[1;32m   1156\u001b[0m                 writer = Writer(codec='h264',\n\u001b[1;32m   1157\u001b[0m                                 \u001b[0mbitrate\u001b[0m\u001b[1;33m=\u001b[0m\u001b[0mrcParams\u001b[0m\u001b[1;33m[\u001b[0m\u001b[1;34m'animation.bitrate'\u001b[0m\u001b[1;33m]\u001b[0m\u001b[1;33m,\u001b[0m\u001b[1;33m\u001b[0m\u001b[0m\n",
      "\u001b[0;32mE:\\Anaconda3\\lib\\site-packages\\matplotlib\\animation.py\u001b[0m in \u001b[0;36m__getitem__\u001b[0;34m(self, name)\u001b[0m\n\u001b[1;32m    127\u001b[0m         \u001b[0mself\u001b[0m\u001b[1;33m.\u001b[0m\u001b[0mensure_not_dirty\u001b[0m\u001b[1;33m(\u001b[0m\u001b[1;33m)\u001b[0m\u001b[1;33m\u001b[0m\u001b[0m\n\u001b[1;32m    128\u001b[0m         \u001b[1;32mif\u001b[0m \u001b[1;32mnot\u001b[0m \u001b[0mself\u001b[0m\u001b[1;33m.\u001b[0m\u001b[0mavail\u001b[0m\u001b[1;33m:\u001b[0m\u001b[1;33m\u001b[0m\u001b[0m\n\u001b[0;32m--> 129\u001b[0;31m             \u001b[1;32mraise\u001b[0m \u001b[0mRuntimeError\u001b[0m\u001b[1;33m(\u001b[0m\u001b[1;34m\"No MovieWriters available!\"\u001b[0m\u001b[1;33m)\u001b[0m\u001b[1;33m\u001b[0m\u001b[0m\n\u001b[0m\u001b[1;32m    130\u001b[0m         \u001b[1;32mreturn\u001b[0m \u001b[0mself\u001b[0m\u001b[1;33m.\u001b[0m\u001b[0mavail\u001b[0m\u001b[1;33m[\u001b[0m\u001b[0mname\u001b[0m\u001b[1;33m]\u001b[0m\u001b[1;33m\u001b[0m\u001b[0m\n\u001b[1;32m    131\u001b[0m \u001b[1;33m\u001b[0m\u001b[0m\n",
      "\u001b[0;31mRuntimeError\u001b[0m: No MovieWriters available!"
     ]
    }
   ],
   "source": [
    "HTML(anim.to_html5_video())"
   ]
  },
  {
   "cell_type": "markdown",
   "metadata": {},
   "source": [
    "## Plot"
   ]
  },
  {
   "cell_type": "code",
   "execution_count": 64,
   "metadata": {
    "collapsed": false
   },
   "outputs": [
    {
     "data": {
      "image/png": "[encoded data removed]",
      "text/plain": [
       "<matplotlib.figure.Figure at 0x22e20a1b668>"
      ]
     },
     "metadata": {},
     "output_type": "display_data"
    }
   ],
   "source": [
    "ts = np.arange(N)*dt\n",
    "plt.plot(ts,x[:,0],label=\"q1\")\n",
    "plt.plot(ts,x[:,1],label=\"q2\")\n",
    "plt.plot(ts,u,label=\"u\")\n",
    "plt.legend()\n",
    "plt.ylim([-2*pi,2*pi])\n",
    "plt.show()"
   ]
  },
  {
   "cell_type": "markdown",
   "metadata": {},
   "source": [
    "# test codes, will delete in the end"
   ]
  },
  {
   "cell_type": "markdown",
   "metadata": {
    "collapsed": true
   },
   "source": [
    "\n",
    "First, we add frictions to the system:\n",
    "\n",
    "$Bu = B\\hat{u}-f\\dot{q}$\n",
    "\n",
    "So that:\n",
    "\n",
    "$H(q)\\ddot{q}+C(q,\\dot{q})\\dot{q}+G(q)=B\\hat{u}-f\\dot{q}$\n",
    "\n",
    "Afterward, $\\ddot{q}$ can be calculated as:\n",
    "\n",
    "$\\ddot{q}=H(q)^{-1}[-C(q,\\dot{q})\\dot{q}-G(q)+B\\hat{u}-f\\dot{q}]$\n",
    "\n",
    "$\\ddot{q}=H(q)^{-1}[-C(q,\\dot{q})\\dot{q}-G(q)-f\\dot{q}]+H(q)^{-1}B\\hat{u}$\n",
    "\n",
    "Thus,\n",
    "\n",
    "$\\dot{x} = \\begin{bmatrix} \\dot{q_1} \\\\ \\dot{q_2} \\\\ \\ddot{q_1} \\\\ \\ddot{q_2} \\end{bmatrix} = \\begin{bmatrix} \\dot{q_1} \\\\ \\dot{q_2} \\\\ H(q)^{-1}[-C(q,\\dot{q})\\dot{q}-G(q)-f\\dot{q}] \\end{bmatrix} + \\begin{bmatrix} 0 \\\\ 0 \\\\ H(q)^{-1}B \\end{bmatrix}\\hat{u}$\n",
    "\n",
    "After setting all constants to 1, the system can be simplified so that:\n",
    "\n",
    "$H(q) = \\begin{bmatrix} 3+2cos(q_2) & 1+cos(q_2) \\\\ 1+cos(q_2) & 1 \\end{bmatrix}$\n",
    "\n",
    "$C(q,\\dot{q})\\dot{q}-G(q) = \\begin{bmatrix} \\dot{q_2}(2\\dot{q_1}+\\dot{q_2})sin(q_2)+2g sin(q_1)+gsin(q_1+q_2) \\\\ -\\dot{q_1}^2-sin(q_2)+gsin(q_1+q_2) \\end{bmatrix}$"
   ]
  },
  {
   "cell_type": "code",
   "execution_count": 9,
   "metadata": {
    "collapsed": false
   },
   "outputs": [
    {
     "data": {
      "text/plain": [
       "1.5707963267948966"
      ]
     },
     "execution_count": 9,
     "metadata": {},
     "output_type": "execute_result"
    }
   ],
   "source": [
    "-2.5*pi%(2*pi)-pi"
   ]
  },
  {
   "cell_type": "code",
   "execution_count": 48,
   "metadata": {
    "collapsed": false
   },
   "outputs": [
    {
     "data": {
      "text/plain": [
       "    fjac: array([[-0.01741857, -0.45888155, -0.55986739, -0.30123053, -0.19853052,\n",
       "        -0.09777832, -0.12645853, -0.13641465, -0.19627958, -0.22203416,\n",
       "        -0.26139183, -0.25582204, -0.22958064, -0.15650332, -0.05060933],\n",
       "       [-0.12898087, -0.76494702,  0.5516711 ,  0.27202249,  0.08153362,\n",
       "        -0.07374207, -0.01228381, -0.03925233, -0.00660474, -0.04552218,\n",
       "        -0.02417883, -0.04469969, -0.02664235, -0.0256678 , -0.00618701],\n",
       "       [-0.0163422 , -0.37696075, -0.57280112,  0.29720132,  0.12255357,\n",
       "         0.17947009,  0.12649247,  0.18381642,  0.18931435,  0.25790369,\n",
       "         0.26627383,  0.2855872 ,  0.23849318,  0.1723764 ,  0.05270107],\n",
       "       [ 0.07919733,  0.04587615, -0.03563594,  0.14924928,  0.58450546,\n",
       "         0.64336129, -0.24110063,  0.05665372, -0.18663328, -0.06924636,\n",
       "        -0.21808074, -0.13628656, -0.18581557, -0.09585304, -0.04126554],\n",
       "       [-0.12310076, -0.10270799,  0.18418675, -0.29347595, -0.59054758,\n",
       "         0.60936775, -0.15941758,  0.23855136, -0.05340218,  0.16343956,\n",
       "         0.00964151,  0.12869106,  0.03376495,  0.06645264,  0.00857365],\n",
       "       [-0.10749862,  0.18465214, -0.1134867 ,  0.75039107, -0.40375258,\n",
       "        -0.11081597, -0.30664763,  0.11563641, -0.20743099,  0.01242559,\n",
       "        -0.18073855, -0.03917515, -0.12797393, -0.03449677, -0.02702394],\n",
       "       [-0.82946087,  0.10731588, -0.05522494,  0.00622573,  0.08314559,\n",
       "         0.06455232,  0.48306752,  0.09332456, -0.06706335, -0.00629241,\n",
       "        -0.12786678, -0.06270364, -0.12663584, -0.04943831, -0.03075696],\n",
       "       [ 0.39010937, -0.00545906,  0.00978119,  0.24054298, -0.25138645,\n",
       "         0.30680614,  0.67428654, -0.3831639 , -0.0823604 , -0.05370644,\n",
       "        -0.08605912, -0.07146978, -0.08049328, -0.04475527, -0.01903384],\n",
       "       [-0.26283723,  0.03757547, -0.03239552,  0.03076708, -0.002684  ,\n",
       "         0.12508217, -0.20451814, -0.57909713, -0.41198419, -0.20070669,\n",
       "         0.40349268,  0.02276916,  0.38459075,  0.06647333,  0.09490525],\n",
       "       [-0.08524778,  0.04161426, -0.03518649,  0.12337196, -0.11687812,\n",
       "         0.18667655, -0.06782179,  0.04857418,  0.62471368, -0.67746176,\n",
       "         0.16048224, -0.18229795,  0.06879632, -0.07733605,  0.01232697],\n",
       "       [ 0.13962066, -0.02419286,  0.02160092, -0.02874526,  0.02978333,\n",
       "        -0.07325232,  0.17364951,  0.4275728 , -0.45506522, -0.54190968,\n",
       "         0.23027932,  0.3637289 , -0.19194144,  0.18532322, -0.04624238],\n",
       "       [ 0.01609636,  0.00353444, -0.00319072,  0.01860008, -0.02368845,\n",
       "         0.01319474,  0.00456664,  0.07704541, -0.03475033,  0.20859061,\n",
       "         0.61084424, -0.57071259, -0.4267126 ,  0.23549017, -0.10760919],\n",
       "       [ 0.05369365, -0.00802114,  0.00740825, -0.00491148,  0.00965571,\n",
       "        -0.01931939,  0.08246076,  0.19862835, -0.11778433, -0.09094087,\n",
       "        -0.30758644, -0.43555478,  0.51637076,  0.5751376 , -0.21534014],\n",
       "       [-0.10202299,  0.00867658, -0.00786361, -0.01329059,  0.01304079,\n",
       "         0.02295731, -0.13464021, -0.38447761,  0.22535016, -0.04231055,\n",
       "        -0.18731248,  0.32265099, -0.41240249,  0.66481879, -0.13713897],\n",
       "       [-0.01501774,  0.00261493, -0.00243929,  0.00226304, -0.00466681,\n",
       "         0.00616746, -0.02709143, -0.05749718,  0.02554864,  0.03246767,\n",
       "         0.10815605,  0.14040302,  0.08282854, -0.23005678, -0.95013292]])\n",
       "     fun: array([-0.00327232,  0.00381014,  0.00388056, -0.00426143,  0.00161786,\n",
       "        0.00124794, -0.00010487, -0.00070146,  0.00174195,  0.00072785,\n",
       "        0.00199994,  0.00120962,  0.00165716,  0.00081221,  0.00035903])\n",
       " message: 'The iteration is not making good progress, as measured by the \\n  improvement from the last ten iterations.'\n",
       "    nfev: 99\n",
       "     qtf: array([-0.00477606, -0.00165648, -0.00264243, -0.00050171,  0.00194518,\n",
       "       -0.00443421,  0.00226724, -0.00272793,  0.002022  ,  0.00054333,\n",
       "       -0.00117488, -0.00013914, -0.0004809 ,  0.00091134,  0.00014687])\n",
       "       r: array([  3.28065795e+00,   7.21045662e-02,   3.47738499e+02,\n",
       "         1.06310248e+01,  -1.01026884e+00,   3.87473206e+00,\n",
       "        -2.34979274e+00,   6.54200748e+00,   3.70983156e+00,\n",
       "         8.72464642e+00,  -1.23314239e+01,   7.90702312e-01,\n",
       "         4.88638144e+00,   1.65466413e+00,  -5.87686492e+00,\n",
       "        -2.50322762e-01,   6.78655744e+00,   8.20101449e-01,\n",
       "        -1.58330367e+00,   1.33673148e-01,  -1.66115479e+00,\n",
       "        -7.82752534e+00,  -3.40121675e+00,   2.98273690e-01,\n",
       "        -1.04394149e+00,   2.43559258e-01,   2.68964015e-01,\n",
       "        -1.36346181e+00,  -3.92182521e+00,  -4.93332276e+01,\n",
       "        -4.30505434e+00,  -1.37006434e+00,  -1.55613390e+00,\n",
       "         2.26476818e-01,   6.06269197e+00,  -8.65861674e-01,\n",
       "         5.75475550e+00,   6.09561791e+00,   4.63218239e+00,\n",
       "         2.67180261e+00,  -1.55361626e+00,  -4.16593419e+00,\n",
       "        -5.95720380e-01,   3.57881603e-01,  -1.06251429e-02,\n",
       "        -1.02469569e-01,   3.02343633e-01,  -1.19563902e-01,\n",
       "        -8.73892675e-01,  -8.05706030e-01,  -7.01698321e-01,\n",
       "        -1.70095549e-01,  -9.29037683e-02,   2.20011708e-01,\n",
       "        -8.28235990e-01,   1.10116429e-01,  -4.40051395e-02,\n",
       "        -1.22383568e+00,   3.82425310e-01,   9.80403574e-01,\n",
       "         1.59144708e+00,   8.40189762e-01,   3.62403915e-01,\n",
       "         1.63899085e-01,  -3.78005836e-01,  -4.16402294e-01,\n",
       "        -1.84455241e-01,  -4.33381899e-01,   4.18213832e-01,\n",
       "        -2.15261322e+00,  -1.82305737e+00,  -1.86027542e+00,\n",
       "        -1.21673405e+00,   7.27556232e-01,   2.21845723e-01,\n",
       "         1.58906873e-01,   2.57565467e-01,  -2.86783277e-01,\n",
       "        -1.07054717e-01,  -5.46427042e-01,  -4.27999289e-01,\n",
       "        -1.87644711e-02,   4.56213670e-02,  -1.19772786e-02,\n",
       "        -3.55499263e-01,   4.67953237e-02,  -3.51453717e-01,\n",
       "        -5.17221329e-01,  -3.97752395e-01,  -5.98606498e-01,\n",
       "         1.48982776e-01,  -4.92169216e-02,  -1.50675720e-01,\n",
       "        -1.12489995e-01,  -1.75384642e-01,  -2.16043080e-01,\n",
       "        -8.20145413e-02,   4.37788372e-02,  -7.06389266e-02,\n",
       "        -2.58432083e-01,  -4.26027698e-01,  -3.44428452e-01,\n",
       "        -3.18804785e-01,   1.12276114e-01,  -5.96107376e-02,\n",
       "         1.53537600e-01,   1.52634737e-01,   6.68392580e-02,\n",
       "        -4.52641291e-02,   3.54421524e-02,  -6.95578983e-02,\n",
       "        -6.28457867e-02,   2.82525692e-02,   6.40331326e-04,\n",
       "         3.78863718e-02,  -7.26838221e-04,   7.31922555e-03,\n",
       "         2.39929605e-02,  -2.02733427e-02,  -1.13592722e-02])\n",
       "  status: 5\n",
       " success: False\n",
       "       x: array([ -2.72463749e+00,   2.06276131e-01,   1.43006649e-03,\n",
       "        -1.12479746e-02,  -2.02618867e-02,   3.92859549e-02,\n",
       "        -3.17327490e-02,   6.71209901e-03,  -1.49880533e-02,\n",
       "         1.21425179e-02,  -1.23929838e-02,   1.75585385e-02,\n",
       "        -9.24004801e-03,   2.59028207e-02,  -1.29890817e-02])"
      ]
     },
     "execution_count": 48,
     "metadata": {},
     "output_type": "execute_result"
    }
   ],
   "source": [
    "out[0]"
   ]
  },
  {
   "cell_type": "code",
   "execution_count": 49,
   "metadata": {
    "collapsed": false
   },
   "outputs": [
    {
     "data": {
      "image/png": "[encoded data removed]",
      "text/plain": [
       "<matplotlib.figure.Figure at 0x22e2072c518>"
      ]
     },
     "metadata": {},
     "output_type": "display_data"
    }
   ],
   "source": [
    "degrees = np.linspace(-3*pi,3*pi,500)%(2*pi)-pi\n",
    "plt.plot(degrees)\n",
    "plt.show()"
   ]
  },
  {
   "cell_type": "code",
   "execution_count": null,
   "metadata": {
    "collapsed": true
   },
   "outputs": [],
   "source": []
  }
 ],
 "metadata": {
  "anaconda-cloud": {},
  "kernelspec": {
   "display_name": "Python [conda root]",
   "language": "python",
   "name": "conda-root-py"
  },
  "language_info": {
   "codemirror_mode": {
    "name": "ipython",
    "version": 3
   },
   "file_extension": ".py",
   "mimetype": "text/x-python",
   "name": "python",
   "nbconvert_exporter": "python",
   "pygments_lexer": "ipython3",
   "version": "3.5.2"
  }
 },
 "nbformat": 4,
 "nbformat_minor": 1
}
