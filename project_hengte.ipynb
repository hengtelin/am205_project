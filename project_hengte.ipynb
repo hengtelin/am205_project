{
 "cells": [
  {
   "cell_type": "code",
   "execution_count": null,
   "metadata": {
    "collapsed": false
   },
   "outputs": [],
   "source": [
    "import numpy as np\n",
    "from numpy import array, sin, cos, dot, random, zeros, ones, exp\n",
    "from scipy.optimize import minimize, root\n",
    "from scipy.linalg import solve, norm\n",
    "from math import pi\n",
    "import matplotlib.pyplot as plt\n",
    "from matplotlib import animation,rc\n",
    "%matplotlib inline\n",
    "from IPython.display import HTML"
   ]
  },
  {
   "cell_type": "code",
   "execution_count": null,
   "metadata": {
    "collapsed": false
   },
   "outputs": [],
   "source": [
    "def acrobot_gradient(x, u):\n",
    "    friction = 2\n",
    "    g = 9.8\n",
    "    M = array([[3 + 2*cos(x[1]), 1+cos(x[1])],[1+cos(x[1]), 1]])\n",
    "    c1 = x[3]*(2*x[2]+x[3])*sin(x[1]) + 2*g*sin(x[0]) + g*sin(x[0]+x[1])\n",
    "    c2 = -x[2]**2*sin(x[1]) + g*sin(x[0]+x[1])\n",
    "    a = np.concatenate([x[2:4], solve(M,array([c1-friction*x[2], c2-friction*x[3]]))])\n",
    "    B = np.concatenate([[0,0],solve(M,array([0,1]))])\n",
    "    xd = a + B*u\n",
    "    return xd\n",
    "#r=k=1\n",
    "#cost_function = lambda x,u,r,k : r/2*u**2 + 1 - exp(k*cos(x[0]) + k*cos(x[1])-2*k)\n",
    "#cost_function = lambda x,u : u**2 + dot(x,x)"
   ]
  },
  {
   "cell_type": "code",
   "execution_count": null,
   "metadata": {
    "collapsed": false
   },
   "outputs": [],
   "source": [
    "starting_point = array([0.001,0,0,0])\n",
    "def acrobot_next_step(x,u):\n",
    "    \n",
    "    xd = acrobot_gradient(x,u)\n",
    "    new_x = x + xd*dt\n",
    "    #limit angle range to [0,2 pi]\n",
    "    new_x[0]%=(2*pi)\n",
    "    new_x[1]%=(2*pi)\n",
    "    #avoid acceleration overflow\n",
    "    return np.clip(new_x,-100,100)\n",
    "\n",
    "def grad_lagrangian_trick(u):\n",
    "    # u is a vector of u0 to uN-1\n",
    "    n=len(u)\n",
    "    x = zeros([n+1,4])\n",
    "    x[0]=starting_point\n",
    "    lam = zeros([n,4])\n",
    "    lam[n-1] = zeros(4)\n",
    "    dldu = zeros(n)\n",
    "    \n",
    "    #define partial derivation functions\n",
    "    def dgdx(x,u):\n",
    "        k=1\n",
    "        out = zeros(4)\n",
    "        x1= x[0]\n",
    "        x2= x[1]\n",
    "        out[0] = exp(k*cos(x1)+k*cos(x1)-2*k)*k*sin(x1)\n",
    "        out[1] = exp(k*cos(x2)+k*cos(x2)-2*k)*k*sin(x2)\n",
    "        return out\n",
    "    dgdu = lambda x,u : 0\n",
    "    \n",
    "    delta = 0.0001\n",
    "    def dfdxT(x,u):\n",
    "        out = zeros([4,4])\n",
    "        for i in range(4):\n",
    "            delta_v = zeros(4)\n",
    "            delta_v[i] = delta\n",
    "            #print(x+delta_v)\n",
    "            out[i] = ((acrobot_gradient(x+delta_v,u)-acrobot_gradient(x-delta_v,u))*dt+2*delta_v)/2/delta\n",
    "        return out\n",
    "    dfdu = lambda x,u : ((acrobot_gradient(x,u+delta)-acrobot_gradient(x,u-delta))*dt+2*delta)/2/delta\n",
    "    \n",
    "    #calculate gradient through back propagation\n",
    "    for i in range(n):\n",
    "        x[i+1]=acrobot_next_step(x[i],u[i])\n",
    "        \n",
    "    for i in reversed(range(1,n)):\n",
    "        lam[i-1]=dgdx(x[i],u[i])+dot(dfdxT(x[i],u[i]),lam[i])\n",
    "    \n",
    "    for i in range(n):\n",
    "        dldu[i]=dgdu(x[i],u[i])+dot(lam[i],dfdu(x[i],u[i]))\n",
    "    \n",
    "    return dldu\n",
    "\n",
    "#change here\n",
    "#------------\n",
    "Duration = 1;\n",
    "FPS = 100;\n",
    "#------------\n",
    "dt = 1./FPS\n",
    "N = int(Duration*FPS);\n",
    "\n",
    "u = zeros(N)#random.normal(0,size=N)\n",
    "\n",
    "out = root(grad_lagrangian_trick,u)"
   ]
  },
  {
   "cell_type": "markdown",
   "metadata": {},
   "source": [
    "## Simulation"
   ]
  },
  {
   "cell_type": "code",
   "execution_count": null,
   "metadata": {
    "collapsed": false
   },
   "outputs": [],
   "source": [
    "\n",
    "u = out.x\n",
    "x = np.zeros((N, 4))\n",
    "x[0] = starting_point\n",
    "for i in range(N-1):\n",
    "    x[i+1] = x[i] + dt*acrobot_gradient(x[i], u[i])\n",
    "# First set up the figure, the axis, and the plot element we want to animate\n",
    "fig, ax = plt.subplots()\n",
    "\n",
    "ax.set_xlim(( -2.2, 2.2))\n",
    "ax.set_ylim((-2.2, 2.2))\n",
    "\n",
    "line, = ax.plot([], [], lw=2)\n",
    "\n",
    "# initialization function: plot the background of each frame\n",
    "def init():\n",
    "    line.set_data([], [])\n",
    "    return (line,)\n",
    "\n",
    "# animation function. This is called sequentially\n",
    "def animate(k):\n",
    "    x1 = cos(x[k,0]+pi/2);\n",
    "    y1 = sin(x[k,0]+pi/2);\n",
    "    x2 = x1 + cos(x[k,0]+x[k,1]+pi/2);\n",
    "    y2 = y1 + sin(x[k,0]+x[k,1]+pi/2);\n",
    "    \n",
    "    xs = [0, x1, x2]\n",
    "    ys = [0, y1, y2]\n",
    "    line.set_data(xs, ys)\n",
    "    return (line,)\n",
    "\n",
    "# call the animator. blit=True means only re-draw the parts that have changed.\n",
    "anim = animation.FuncAnimation(fig, animate, init_func=init,\n",
    "                               frames=N, interval=20, blit=True)\n"
   ]
  },
  {
   "cell_type": "code",
   "execution_count": null,
   "metadata": {
    "collapsed": false
   },
   "outputs": [],
   "source": [
    "HTML(anim.to_html5_video())"
   ]
  },
  {
   "cell_type": "markdown",
   "metadata": {},
   "source": [
    "# test codes, will delete in the end"
   ]
  },
  {
   "cell_type": "code",
   "execution_count": null,
   "metadata": {
    "collapsed": true
   },
   "outputs": [],
   "source": [
    "#brute force method, not converging\n",
    "\n",
    "def lagrangian(input_array):\n",
    "    #x is x1 to xN,followed by U0 to UN-1, followed by lambda0 to lambdaN-1\n",
    "    x = np.concatenate([[pi,0,0,0],input_array[:(n-1)*4]])\n",
    "    u = input_array[(n-1)*4:(n-1)*4+n]\n",
    "    lam = input_array[(n-1)*4+n:-1]\n",
    "\n",
    "    L=0\n",
    "    for i in range(n-1):\n",
    "        #current x\n",
    "        xx = x[i*4:(i+1)*4]\n",
    "        #next x\n",
    "        xx_p1 = x[(i+1)*4:(i+2)*4]\n",
    "        #difference between x+dt*dx and x_next\n",
    "        delta = xx+dt*acrobot_motion(xx,u[i])-xx_p1\n",
    "        #minimize energy\n",
    "        cost = cost_function(xx,u[i])\n",
    "        lagragian_term = lam[i]*(delta[0:1]%(2*pi))\n",
    "        L+=cost+lagragian_term\n",
    "    return L\n",
    "#init = np.ones(n*4+n+n)\n",
    "#out = minimize(lagrangian,init)"
   ]
  },
  {
   "cell_type": "code",
   "execution_count": null,
   "metadata": {
    "collapsed": false
   },
   "outputs": [],
   "source": [
    "x[:,0]"
   ]
  },
  {
   "cell_type": "code",
   "execution_count": null,
   "metadata": {
    "collapsed": false
   },
   "outputs": [],
   "source": [
    "out"
   ]
  },
  {
   "cell_type": "code",
   "execution_count": null,
   "metadata": {
    "collapsed": true
   },
   "outputs": [],
   "source": []
  }
 ],
 "metadata": {
  "anaconda-cloud": {},
  "kernelspec": {
   "display_name": "Python [conda root]",
   "language": "python",
   "name": "conda-root-py"
  },
  "language_info": {
   "codemirror_mode": {
    "name": "ipython",
    "version": 3
   },
   "file_extension": ".py",
   "mimetype": "text/x-python",
   "name": "python",
   "nbconvert_exporter": "python",
   "pygments_lexer": "ipython3",
   "version": "3.5.2"
  }
 },
 "nbformat": 4,
 "nbformat_minor": 1
}
