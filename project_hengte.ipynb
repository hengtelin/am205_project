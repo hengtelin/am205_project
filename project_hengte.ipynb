{
 "cells": [
  {
   "cell_type": "code",
   "execution_count": 16,
   "metadata": {
    "collapsed": false
   },
   "outputs": [],
   "source": [
    "import numpy as np\n",
    "from numpy import array, sin, cos, dot, random, zeros, ones, exp\n",
    "from scipy.optimize import minimize, root\n",
    "from scipy.linalg import solve, norm\n",
    "from scipy.integrate import simps\n",
    "from scipy.interpolate import lagrange\n",
    "from math import pi\n",
    "import sys\n",
    "import matplotlib.pyplot as plt\n",
    "from matplotlib import animation,rc\n",
    "%matplotlib inline\n",
    "from IPython.display import HTML\n",
    "import matplotlib.pyplot as plt"
   ]
  },
  {
   "cell_type": "markdown",
   "metadata": {},
   "source": [
    "## Mechanical System"
   ]
  },
  {
   "cell_type": "code",
   "execution_count": 28,
   "metadata": {
    "collapsed": false
   },
   "outputs": [],
   "source": [
    "#change here\n",
    "#------------\n",
    "Duration = 1;\n",
    "FPS = 100;\n",
    "starting_point = array([0.001,0,0,0])\n",
    "#-----------\n",
    "dt = 1./FPS\n",
    "N = int(Duration*FPS);\n",
    "\n",
    "def acrobot_gradient(x, u):\n",
    "    friction = 2\n",
    "    g = 9.8\n",
    "    M = array([[3 + 2*cos(x[1]), 1+cos(x[1])],[1+cos(x[1]), 1]])\n",
    "    c1 = x[3]*(2*x[2]+x[3])*sin(x[1]) + 2*g*sin(x[0]) + g*sin(x[0]+x[1])\n",
    "    c2 = -x[2]**2*sin(x[1]) + g*sin(x[0]+x[1])\n",
    "    a = np.concatenate([x[2:4], solve(M,array([c1-friction*x[2], c2-friction*x[3]]))])\n",
    "    B = np.concatenate([[0,0],solve(M,array([0,1]))])\n",
    "    xd = a + B*u\n",
    "    return xd\n",
    "\n",
    "def acrobot_next_step(x,u):\n",
    "    \n",
    "    xd = acrobot_gradient(x,u)\n",
    "    new_x = x + xd*dt\n",
    "    #limit angle range to [0,2 pi]\n",
    "    new_x[0]%=(2*pi)\n",
    "    new_x[1]%=(2*pi)\n",
    "    #avoid acceleration overflow\n",
    "    return np.clip(new_x,-100,100)\n",
    "#r=k=1\n",
    "#cost_function = lambda x,u,r,k : r/2*u**2 + 1 - exp(k*cos(x[0]) + k*cos(x[1])-2*k)\n",
    "#cost_function = lambda x,u : u**2 + dot(x,x)"
   ]
  },
  {
   "cell_type": "markdown",
   "metadata": {},
   "source": [
    "## Lagrangian Bruteforce"
   ]
  },
  {
   "cell_type": "code",
   "execution_count": 5,
   "metadata": {
    "collapsed": true
   },
   "outputs": [],
   "source": [
    "#brute force method, not converging\n",
    "\n",
    "def lagrangian(input_array):\n",
    "    #x is x1 to xN,followed by U0 to UN-1, followed by lambda0 to lambdaN-1\n",
    "    x = np.concatenate([[pi,0,0,0],input_array[:(N-1)*4]])\n",
    "    u = input_array[(N-1)*4:(N-1)*4+N]\n",
    "    lam = input_array[(N-1)*4+N:-1]\n",
    "\n",
    "    L=0\n",
    "    for i in range(N-1):\n",
    "        #current x\n",
    "        xx = x[i*4:(i+1)*4]\n",
    "        #next x\n",
    "        xx_p1 = x[(i+1)*4:(i+2)*4]\n",
    "        #difference between x+dt*dx and x_next\n",
    "        delta = xx+dt*acrobot_motion(xx,u[i])-xx_p1\n",
    "        #minimize energy\n",
    "        cost = cost_function(xx,u[i])\n",
    "        lagragian_term = lam[i]*(delta[0:1]%(2*pi))\n",
    "        L+=cost+lagragian_term\n",
    "    return L\n",
    "def lagrangian_train():\n",
    "    init = np.ones(N*4+N+N)\n",
    "    out = minimize(lagrangian,init)"
   ]
  },
  {
   "cell_type": "markdown",
   "metadata": {},
   "source": [
    "## Lagrangian multiplier derivation"
   ]
  },
  {
   "cell_type": "code",
   "execution_count": 9,
   "metadata": {
    "collapsed": true
   },
   "outputs": [],
   "source": [
    "def grad_lagrangian_trick(u):\n",
    "    # u is a vector of u0 to uN-1\n",
    "    n=len(u)\n",
    "    x = zeros([n+1,4])\n",
    "    x[0]=starting_point\n",
    "    lam = zeros([n,4])\n",
    "    lam[n-1] = zeros(4)\n",
    "    dldu = zeros(n)\n",
    "    \n",
    "    #define partial derivation functions\n",
    "    def dgdx(x,u):\n",
    "        k=1\n",
    "        out = zeros(4)\n",
    "        x1= x[0]\n",
    "        x2= x[1]\n",
    "        out[0] = exp(k*cos(x1)+k*cos(x1)-2*k)*k*sin(x1)\n",
    "        out[1] = exp(k*cos(x2)+k*cos(x2)-2*k)*k*sin(x2)\n",
    "        return out\n",
    "    dgdu = lambda x,u : 0\n",
    "    \n",
    "    delta = 0.0001\n",
    "    def dfdxT(x,u):\n",
    "        out = zeros([4,4])\n",
    "        for i in range(4):\n",
    "            delta_v = zeros(4)\n",
    "            delta_v[i] = delta\n",
    "            #print(x+delta_v)\n",
    "            out[i] = ((acrobot_gradient(x+delta_v,u)-acrobot_gradient(x-delta_v,u))*dt+2*delta_v)/2/delta\n",
    "        return out\n",
    "    dfdu = lambda x,u : ((acrobot_gradient(x,u+delta)-acrobot_gradient(x,u-delta))*dt+2*delta)/2/delta\n",
    "    \n",
    "    #calculate gradient through back propagation\n",
    "    for i in range(n):\n",
    "        x[i+1]=acrobot_next_step(x[i],u[i])\n",
    "        \n",
    "    for i in reversed(range(1,n)):\n",
    "        lam[i-1]=dgdx(x[i],u[i])+dot(dfdxT(x[i],u[i]),lam[i])\n",
    "    \n",
    "    for i in range(n):\n",
    "        dldu[i]=dgdu(x[i],u[i])+dot(lam[i],dfdu(x[i],u[i]))\n",
    "    \n",
    "    return dldu\n",
    "\n",
    "def lagrangian_train(dt,N):\n",
    "    u = zeros(N)#random.normal(0,size=N)\n",
    "    out = root(grad_lagrangian_trick,u) \n",
    "    return (out,out.x)"
   ]
  },
  {
   "cell_type": "markdown",
   "metadata": {},
   "source": [
    "## Chebyshev"
   ]
  },
  {
   "cell_type": "code",
   "execution_count": 10,
   "metadata": {
    "collapsed": false
   },
   "outputs": [],
   "source": [
    "def interpolate_fit(x, coef):\n",
    "    f = lambda x : sum([pow(x, y)*coef[y] for y in range(len(coef))])\n",
    "    vfunc = np.vectorize(f)\n",
    "    return vfunc(x)\n",
    "\n",
    "def chebyshev_gradient(ts,order,cheby_t,cheby_u):\n",
    "    def interpolate_grad_fit(x, cheby_t, cheby_u):\n",
    "        # fit gradient of model relate to cheby u\n",
    "        # dL(t)dwj = lj(t) = (x-x0)/(xj-x0)....x-xk)/(xj-xk)\n",
    "        f = lambda x : array(\n",
    "            [\n",
    "                np.prod([\n",
    "                    (x-xi)/(xj-xi) \n",
    "                    for xi in cheby_t if xi!=xj\n",
    "                ]) \n",
    "                for xj in cheby_t\n",
    "            ]\n",
    "        )\n",
    "        return array([f(xx) for xx in x])\n",
    "    #calculate u according to current chebyshev\n",
    "    poly = np.flipud(lagrange(cheby_t,cheby_u))\n",
    "    u = interpolate_fit(ts, poly)\n",
    "    # calculate dLdw\n",
    "    dldu = grad_lagrangian_trick(u)\n",
    "    dudw = interpolate_grad_fit(ts, cheby_t, cheby_u)\n",
    "    return array([simps(dudw[:,i]*dldu,ts) for i in range(order)])\n",
    "\n",
    "def chebyshev_train(dt,N,order):\n",
    "    chebyshev = lambda n: array([cos((2*j-1)*pi/(2*n)) for j in range(1,n+1)])\n",
    "    Duration = N*dt\n",
    "    ts = np.arange(N)*dt\n",
    "    cheby_t = (chebyshev(order)+1)*Duration/2\n",
    "    cheby_u = random.normal(0,size=order)\n",
    "    \n",
    "    local_chebyshev_gradient = lambda cheby_u: chebyshev_gradient(ts,order,cheby_t,cheby_u)\n",
    "    out = root(local_chebyshev_gradient,cheby_u)\n",
    "    \n",
    "    #get final u array\n",
    "    poly = np.flipud(lagrange(cheby_t,out.x))\n",
    "    u = interpolate_fit(ts, poly)\n",
    "    return (out,u)"
   ]
  },
  {
   "cell_type": "markdown",
   "metadata": {},
   "source": [
    "## Fit"
   ]
  },
  {
   "cell_type": "code",
   "execution_count": 29,
   "metadata": {
    "collapsed": false
   },
   "outputs": [],
   "source": [
    "out = chebyshev_train(dt,N,10) \n",
    "#out = lagrangian_train(dt,N)\n",
    "u = out[1]"
   ]
  },
  {
   "cell_type": "markdown",
   "metadata": {},
   "source": [
    "## Simulation"
   ]
  },
  {
   "cell_type": "code",
   "execution_count": 30,
   "metadata": {
    "collapsed": false
   },
   "outputs": [
    {
     "data": {
      "image/png": "[encoded data removed]",
      "text/plain": [
       "<matplotlib.figure.Figure at 0x1cf9deb9160>"
      ]
     },
     "metadata": {},
     "output_type": "display_data"
    }
   ],
   "source": [
    "\n",
    "x = np.zeros((N, 4))\n",
    "x[0] = starting_point\n",
    "for i in range(N-1):\n",
    "    x[i+1] = x[i] + dt*acrobot_gradient(x[i], u[i])\n",
    "# First set up the figure, the axis, and the plot element we want to animate\n",
    "fig, ax = plt.subplots()\n",
    "\n",
    "ax.set_xlim(( -2.2, 2.2))\n",
    "ax.set_ylim((-2.2, 2.2))\n",
    "\n",
    "line, = ax.plot([], [], lw=2)\n",
    "\n",
    "# initialization function: plot the background of each frame\n",
    "def init():\n",
    "    line.set_data([], [])\n",
    "    return (line,)\n",
    "\n",
    "# animation function. This is called sequentially\n",
    "def animate(k):\n",
    "    x1 = cos(x[k,0]+pi/2);\n",
    "    y1 = sin(x[k,0]+pi/2);\n",
    "    x2 = x1 + cos(x[k,0]+x[k,1]+pi/2);\n",
    "    y2 = y1 + sin(x[k,0]+x[k,1]+pi/2);\n",
    "    \n",
    "    xs = [0, x1, x2]\n",
    "    ys = [0, y1, y2]\n",
    "    line.set_data(xs, ys)\n",
    "    return (line,)\n",
    "\n",
    "# call the animator. blit=True means only re-draw the parts that have changed.\n",
    "anim = animation.FuncAnimation(fig, animate, init_func=init,\n",
    "                               frames=N, interval=20, blit=True)\n"
   ]
  },
  {
   "cell_type": "code",
   "execution_count": null,
   "metadata": {
    "collapsed": false
   },
   "outputs": [],
   "source": [
    "HTML(anim.to_html5_video())"
   ]
  },
  {
   "cell_type": "markdown",
   "metadata": {},
   "source": [
    "## Plot"
   ]
  },
  {
   "cell_type": "code",
   "execution_count": 31,
   "metadata": {
    "collapsed": false
   },
   "outputs": [
    {
     "data": {
      "image/png": "[encoded data removed]",
      "text/plain": [
       "<matplotlib.figure.Figure at 0x1cf9de49dd8>"
      ]
     },
     "metadata": {},
     "output_type": "display_data"
    }
   ],
   "source": [
    "ts = np.arange(N)*dt\n",
    "plt.plot(ts,x[:,0],label=\"q1\")\n",
    "plt.plot(ts,x[:,1],label=\"q2\")\n",
    "plt.plot(ts,u,label=\"u\")\n",
    "plt.legend()\n",
    "plt.ylim([-2*pi,2*pi])\n",
    "plt.show()"
   ]
  },
  {
   "cell_type": "markdown",
   "metadata": {},
   "source": [
    "# test codes, will delete in the end"
   ]
  },
  {
   "cell_type": "markdown",
   "metadata": {
    "collapsed": true
   },
   "source": [
    "\n",
    "First, we add frictions to the system:\n",
    "\n",
    "$Bu = B\\hat{u}-f\\dot{q}$\n",
    "\n",
    "So that:\n",
    "\n",
    "$H(q)\\ddot{q}+C(q,\\dot{q})\\dot{q}+G(q)=B\\hat{u}-f\\dot{q}$\n",
    "\n",
    "Afterward, $\\ddot{q}$ can be calculated as:\n",
    "\n",
    "$\\ddot{q}=H(q)^{-1}[-C(q,\\dot{q})\\dot{q}-G(q)+B\\hat{u}-f\\dot{q}]$\n",
    "\n",
    "$\\ddot{q}=H(q)^{-1}[-C(q,\\dot{q})\\dot{q}-G(q)-f\\dot{q}]+H(q)^{-1}B\\hat{u}$\n",
    "\n",
    "Thus,\n",
    "\n",
    "$\\dot{x} = \\begin{bmatrix} \\dot{q_1} \\\\ \\dot{q_2} \\\\ \\ddot{q_1} \\\\ \\ddot{q_2} \\end{bmatrix} = \\begin{bmatrix} \\dot{q_1} \\\\ \\dot{q_2} \\\\ H(q)^{-1}[-C(q,\\dot{q})\\dot{q}-G(q)-f\\dot{q}] \\end{bmatrix} + \\begin{bmatrix} 0 \\\\ 0 \\\\ H(q)^{-1}B \\end{bmatrix}\\hat{u}$\n",
    "\n",
    "After setting all constants to 1, the system can be simplified so that:\n",
    "\n",
    "$H(q) = \\begin{bmatrix} 3+2cos(q_2) & 1+cos(q_2) \\\\ 1+cos(q_2) & 1 \\end{bmatrix}$\n",
    "\n",
    "$C(q,\\dot{q})\\dot{q}-G(q) = \\begin{bmatrix} \\dot{q_2}(2\\dot{q_1}+\\dot{q_2})sin(q_2)+2g sin(q_1)+gsin(q_1+q_2) \\\\ -\\dot{q_1}^2-sin(q_2)+gsin(q_1+q_2) \\end{bmatrix}$"
   ]
  },
  {
   "cell_type": "code",
   "execution_count": 26,
   "metadata": {
    "collapsed": false
   },
   "outputs": [
    {
     "data": {
      "text/plain": [
       "array([  1.00000000e-03,   1.00000000e-03,  -5.43982810e-02,\n",
       "        -1.50418812e-01,  -2.70093541e-01,  -3.90606560e-01,\n",
       "        -4.97936427e-01,  -5.90470588e-01,  -6.69707684e-01,\n",
       "        -7.36891379e-01,  -7.92679857e-01,  -8.37319077e-01,\n",
       "        -8.70898224e-01,  -8.93679686e-01,  -9.06519957e-01,\n",
       "        -9.11284699e-01,  -9.10962374e-01,  -9.09136063e-01,\n",
       "        -9.08925680e-01,  -9.12125915e-01,  -9.19101956e-01,\n",
       "        -9.29252067e-01,  -9.41548391e-01,  -9.54902440e-01,\n",
       "        -9.68347698e-01,  -9.81109479e-01,  -9.92620870e-01,\n",
       "        -1.00251712e+00,  -1.01062260e+00,  -1.01693515e+00,\n",
       "        -1.02160899e+00,  -1.02493625e+00,  -1.02732742e+00,\n",
       "        -1.02929102e+00,  -1.03141278e+00,  -1.03433388e+00,\n",
       "        -1.03872696e+00,  -1.04526684e+00,  -1.05459186e+00,\n",
       "        -1.06725108e+00,  -1.08363335e+00,  -1.10387952e+00,\n",
       "        -1.12778917e+00,  -1.15474845e+00,  -1.18371911e+00,\n",
       "        -1.21332507e+00,  -1.24204022e+00,  -1.26842927e+00,\n",
       "        -1.29135992e+00,  -1.31012025e+00,  -1.32442692e+00,\n",
       "        -1.33435591e+00,  -1.34024181e+00,  -1.34258148e+00,\n",
       "        -1.34195918e+00,  -1.33899636e+00,  -1.33432219e+00,\n",
       "        -1.32855867e+00,  -1.32231473e+00,  -1.31618474e+00,\n",
       "        -1.31074835e+00,  -1.30656925e+00,  -1.30419131e+00,\n",
       "        -1.30413150e+00,  -1.30686932e+00,  -1.31283346e+00,\n",
       "        -1.32238724e+00,  -1.33581488e+00,  -1.35331095e+00,\n",
       "        -1.37497509e+00,  -1.40081346e+00,  -1.43074703e+00,\n",
       "        -1.46462571e+00,  -1.50224658e+00,  -1.54337351e+00,\n",
       "        -1.58775621e+00,  -1.63514646e+00,  -1.68531086e+00,\n",
       "        -1.73803926e+00,  -1.79314923e+00,  -1.85048683e+00,\n",
       "        -1.90992383e+00,  -1.97135157e+00,  -2.03467091e+00,\n",
       "        -2.09977766e+00,  -2.16654227e+00,  -2.23478377e+00,\n",
       "        -2.30424002e+00,  -2.37454243e+00,  -2.44521307e+00,\n",
       "        -2.51571069e+00,  -2.58554526e+00,  -2.65444247e+00,\n",
       "        -2.72248285e+00,  -2.79013015e+00,  -2.85813630e+00,\n",
       "        -2.92739957e+00,  -2.99886260e+00,  -3.07348449e+00,\n",
       "        -3.15227554e+00,  -3.23637441e+00,  -3.32715685e+00,\n",
       "        -3.42637256e+00,  -3.53628530e+00,  -3.65965861e+00,\n",
       "        -3.79885299e+00,  -3.95148915e+00,  -4.10072320e+00,\n",
       "        -4.22433702e+00,  -4.32366035e+00,  -4.40664686e+00,\n",
       "        -4.47805640e+00,  -4.54047099e+00,  -4.59531416e+00,\n",
       "        -4.64335192e+00,  -4.68494449e+00,  -4.72019017e+00,\n",
       "        -4.74902866e+00,  -4.77134232e+00,  -4.78708049e+00,\n",
       "        -4.79641934e+00,  -4.79994297e+00,  -4.79878621e+00,\n",
       "        -4.79463712e+00,  -4.78952046e+00,  -4.78540989e+00,\n",
       "        -4.78385527e+00,  -4.78580183e+00,  -4.79162720e+00,\n",
       "        -4.80129873e+00,  -4.81454505e+00,  -4.83098712e+00,\n",
       "        -4.85021984e+00,  -4.87185476e+00,  -4.89553783e+00,\n",
       "        -4.92095279e+00,  -4.94781707e+00,  -4.97587389e+00,\n",
       "        -5.00488252e+00,  -5.03460747e+00,  -5.06480699e+00,\n",
       "        -5.09522088e+00,  -5.12555815e+00,  -5.15548546e+00,\n",
       "        -5.18461831e+00,  -5.21251861e+00,  -5.23870308e+00,\n",
       "        -5.26266731e+00,  -5.28392652e+00,  -5.30206760e+00,\n",
       "        -5.31679860e+00,  -5.32797886e+00,  -5.33561986e+00,\n",
       "        -5.33985943e+00,  -5.34092217e+00,  -5.33907975e+00,\n",
       "        -5.33461959e+00,  -5.32782424e+00,  -5.31895986e+00,\n",
       "        -5.30827123e+00,  -5.29598061e+00,  -5.28228880e+00,\n",
       "        -5.26737704e+00,  -5.25140925e+00,  -5.23453412e+00,\n",
       "        -5.21688706e+00,  -5.19859174e+00,  -5.17976143e+00,\n",
       "        -5.16050003e+00,  -5.14090285e+00,  -5.12105726e+00,\n",
       "        -5.10104315e+00,  -5.08093316e+00,  -5.06079296e+00,\n",
       "        -5.04068126e+00,  -5.02064982e+00,  -5.00074328e+00,\n",
       "        -4.98099895e+00,  -4.96144655e+00,  -4.94210774e+00,\n",
       "        -4.92299573e+00,  -4.90411482e+00,  -4.88545987e+00,\n",
       "        -4.86701594e+00,  -4.84875794e+00,  -4.83065048e+00,\n",
       "        -4.81264789e+00,  -4.79469456e+00,  -4.77672545e+00,\n",
       "        -4.75866702e+00,  -4.74043830e+00,  -4.72195226e+00,\n",
       "        -4.70311728e+00,  -4.68383877e+00,  -4.66402068e+00,\n",
       "        -4.64356707e+00,  -4.62238346e+00,  -4.60037808e+00,\n",
       "        -4.57746297e+00,  -4.55355486e+00,  -4.52857601e+00,\n",
       "        -4.50245482e+00,  -4.47512647e+00,  -4.44653341e+00,\n",
       "        -4.41662582e+00,  -4.38536210e+00,  -4.35270922e+00,\n",
       "        -4.31864312e+00,  -4.28314910e+00,  -4.24622208e+00,\n",
       "        -4.20786684e+00,  -4.16809822e+00,  -4.12694119e+00,\n",
       "        -4.08443078e+00,  -4.04061196e+00,  -3.99553935e+00,\n",
       "        -3.94927673e+00,  -3.90189658e+00,  -3.85347925e+00,\n",
       "        -3.80411223e+00,  -3.75388917e+00,  -3.70290884e+00,\n",
       "        -3.65127410e+00,  -3.59909077e+00,  -3.54646649e+00,\n",
       "        -3.49350964e+00,  -3.44032832e+00,  -3.38702935e+00,\n",
       "        -3.33371738e+00,  -3.28049408e+00,  -3.22745751e+00,\n",
       "        -3.17470146e+00,  -3.12231500e+00,  -3.07038207e+00,\n",
       "        -3.01898117e+00,  -2.96818510e+00,  -2.91806082e+00,\n",
       "        -2.86866923e+00,  -2.82006514e+00,  -2.77229717e+00,\n",
       "        -2.72540773e+00,  -2.67943297e+00,  -2.63440284e+00,\n",
       "        -2.59034107e+00,  -2.54726532e+00,  -2.50518719e+00,\n",
       "        -2.46411247e+00,  -2.42404124e+00,  -2.38496819e+00,\n",
       "        -2.34688280e+00,  -2.30976973e+00,  -2.27360914e+00,\n",
       "        -2.23837703e+00,  -2.20404566e+00,  -2.17058395e+00,\n",
       "        -2.13795784e+00,  -2.10613067e+00,  -2.07506356e+00,\n",
       "        -2.04471575e+00,  -2.01504487e+00,  -1.98600723e+00,\n",
       "        -1.95755806e+00,  -1.92965175e+00,  -1.90224201e+00,\n",
       "        -1.87528206e+00,  -1.84872480e+00,  -1.82252304e+00,\n",
       "        -1.79662965e+00,  -1.77099784e+00,  -1.74558152e+00,\n",
       "        -1.72033567e+00,  -1.69521687e+00,  -1.67018402e+00,\n",
       "        -1.64519914e+00,  -1.62022843e+00,  -1.59524344e+00,\n",
       "        -1.57022257e+00,  -1.54515251e+00,  -1.52002989e+00,\n",
       "        -1.49486271e+00,  -1.46967162e+00,  -1.44449059e+00,\n",
       "        -1.41936687e+00,  -1.39436016e+00,  -1.36954076e+00,\n",
       "        -1.34498694e+00,  -1.32078186e+00,  -1.29701029e+00,\n",
       "        -1.27375574e+00,  -1.25109811e+00,  -1.22911225e+00,\n",
       "        -1.20786728e+00,  -1.18742659e+00,  -1.16784835e+00,\n",
       "        -1.14918637e+00,  -1.13149100e+00,  -1.11481012e+00,\n",
       "        -1.09919000e+00,  -1.08467607e+00,  -1.07131357e+00,\n",
       "        -1.05914802e+00,  -1.04822563e+00,  -1.03859349e+00,\n",
       "        -1.03029975e+00,  -1.02339364e+00,  -1.01792542e+00,\n",
       "        -1.01394617e+00,  -1.01150763e+00,  -1.01066175e+00,\n",
       "        -1.01146036e+00,  -1.01395454e+00,  -1.01819411e+00,\n",
       "        -1.02422681e+00,  -1.03209760e+00,  -1.04184773e+00,\n",
       "        -1.05351386e+00,  -1.06712704e+00,  -1.08271176e+00,\n",
       "        -1.10028494e+00,  -1.11985501e+00,  -1.14142102e+00,\n",
       "        -1.16497192e+00,  -1.19048599e+00,  -1.21793043e+00,\n",
       "        -1.24726128e+00,  -1.27842351e+00,  -1.31135145e+00,\n",
       "        -1.34596953e+00,  -1.38219327e+00,  -1.41993064e+00,\n",
       "        -1.45908360e+00,  -1.49954994e+00,  -1.54122526e+00,\n",
       "        -1.58400518e+00,  -1.62778753e+00,  -1.67247474e+00,\n",
       "        -1.71797611e+00,  -1.76421013e+00,  -1.81110658e+00,\n",
       "        -1.85860865e+00,  -1.90667479e+00,  -1.95528041e+00,\n",
       "        -2.00441941e+00,  -2.05410550e+00,  -2.10437346e+00,\n",
       "        -2.15528027e+00,  -2.20690619e+00,  -2.25935605e+00,\n",
       "        -2.31276054e+00,  -2.36727776e+00,  -2.42309486e+00,\n",
       "        -2.48042964e+00,  -2.53953137e+00,  -2.60067966e+00,\n",
       "        -2.66417840e+00,  -2.73033941e+00,  -2.79944538e+00,\n",
       "        -2.87167444e+00,  -2.94696221e+00,  -3.02478885e+00,\n",
       "        -3.10395213e+00,  -3.18255457e+00,  -3.25849729e+00,\n",
       "        -3.33029899e+00,  -3.39748960e+00,  -3.46033639e+00,\n",
       "        -3.51940078e+00,  -3.57526924e+00,  -3.62845258e+00,\n",
       "        -3.67936685e+00,  -3.72834262e+00,  -3.77564060e+00,\n",
       "        -3.82146619e+00,  -3.86598140e+00,  -3.90931398e+00,\n",
       "        -3.95156433e+00,  -3.99281075e+00,  -4.03311340e+00,\n",
       "        -4.07251726e+00,  -4.11105453e+00,  -4.14874643e+00,\n",
       "        -4.18560467e+00,  -4.22163262e+00,  -4.25682637e+00,\n",
       "        -4.29117562e+00,  -4.32466446e+00,  -4.35727219e+00,\n",
       "        -4.38897407e+00,  -4.41974207e+00,  -4.44954563e+00,\n",
       "        -4.47835250e+00,  -4.50612947e+00,  -4.53284319e+00,\n",
       "        -4.55846093e+00,  -4.58295127e+00,  -4.60628477e+00,\n",
       "        -4.62843453e+00,  -4.64937659e+00,  -4.66909024e+00,\n",
       "        -4.68755820e+00,  -4.70476657e+00,  -4.72070469e+00,\n",
       "        -4.73536488e+00,  -4.74874196e+00,  -4.76083280e+00,\n",
       "        -4.77163559e+00,  -4.78114923e+00,  -4.78937256e+00,\n",
       "        -4.79630351e+00,  -4.80193833e+00,  -4.80627070e+00,\n",
       "        -4.80929089e+00,  -4.81098490e+00,  -4.81133363e+00,\n",
       "        -4.81031215e+00,  -4.80788904e+00,  -4.80402584e+00,\n",
       "        -4.79867670e+00,  -4.79178830e+00,  -4.78329985e+00,\n",
       "        -4.77314344e+00,  -4.76124448e+00,  -4.74752223e+00,\n",
       "        -4.73189039e+00,  -4.71425741e+00,  -4.69452665e+00,\n",
       "        -4.67259601e+00,  -4.64835697e+00,  -4.62169304e+00,\n",
       "        -4.59247724e+00,  -4.56056882e+00,  -4.52580880e+00,\n",
       "        -4.48801453e+00,  -4.44697282e+00,  -4.40243203e+00,\n",
       "        -4.35409308e+00,  -4.30160066e+00,  -4.24453772e+00,\n",
       "        -4.18243129e+00,  -4.11478891e+00,  -4.04121013e+00,\n",
       "        -3.96166169e+00,  -3.87704168e+00,  -3.78998070e+00,\n",
       "        -3.70500290e+00,  -3.62656978e+00,  -3.55649837e+00,\n",
       "        -3.49419517e+00,  -3.43831184e+00,  -3.38760275e+00,\n",
       "        -3.34110242e+00,  -3.29809245e+00,  -3.25803801e+00,\n",
       "        -3.22053523e+00,  -3.18527361e+00,  -3.15201007e+00,\n",
       "        -3.12055132e+00,  -3.09074162e+00,  -3.06245453e+00,\n",
       "        -3.03558726e+00,  -3.01005693e+00,  -2.98579819e+00,\n",
       "        -2.96276188e+00,  -2.94091433e+00,  -2.92023719e+00,\n",
       "        -2.90072745e+00,  -2.88239764e+00,  -2.86527587e+00,\n",
       "        -2.84940572e+00,  -2.83484575e+00,  -2.82166846e+00,\n",
       "        -2.80995874e+00,  -2.79981154e+00,  -2.79132880e+00,\n",
       "        -2.78461548e+00,  -2.77977477e+00,  -2.77690230e+00,\n",
       "        -2.77607956e+00,  -2.77736622e+00,  -2.78079156e+00,\n",
       "        -2.78634457e+00,  -2.79396252e+00,  -2.80351748e+00,\n",
       "        -2.81480019e+00,  -2.82750040e+00,  -2.84118345e+00,\n",
       "        -2.85526285e+00,  -2.86897051e+00,  -2.88132845e+00,\n",
       "        -2.89112984e+00,  -2.89694177e+00,  -2.89714674e+00,\n",
       "        -2.89003915e+00,  -2.87398563e+00,  -2.84763877e+00,\n",
       "        -2.81016750e+00,  -2.76144126e+00,  -2.70209778e+00,\n",
       "        -2.63346211e+00,  -2.55736989e+00])"
      ]
     },
     "execution_count": 26,
     "metadata": {},
     "output_type": "execute_result"
    }
   ],
   "source": [
    "x[:,0]"
   ]
  },
  {
   "cell_type": "code",
   "execution_count": null,
   "metadata": {
    "collapsed": true
   },
   "outputs": [],
   "source": []
  }
 ],
 "metadata": {
  "anaconda-cloud": {},
  "kernelspec": {
   "display_name": "Python [conda root]",
   "language": "python",
   "name": "conda-root-py"
  },
  "language_info": {
   "codemirror_mode": {
    "name": "ipython",
    "version": 3
   },
   "file_extension": ".py",
   "mimetype": "text/x-python",
   "name": "python",
   "nbconvert_exporter": "python",
   "pygments_lexer": "ipython3",
   "version": "3.5.2"
  }
 },
 "nbformat": 4,
 "nbformat_minor": 1
}
